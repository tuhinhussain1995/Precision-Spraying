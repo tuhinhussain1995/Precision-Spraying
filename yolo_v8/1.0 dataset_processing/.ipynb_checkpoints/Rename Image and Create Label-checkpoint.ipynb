{
 "cells": [
  {
   "cell_type": "markdown",
   "id": "59351053-14bd-4db2-86ac-9da4f1cc4c9a",
   "metadata": {},
   "source": [
    "## Rename Images"
   ]
  },
  {
   "cell_type": "code",
   "execution_count": null,
   "id": "c17d3df1-3d6a-4957-967d-5207cddaf881",
   "metadata": {},
   "outputs": [],
   "source": [
    "import os\n",
    "import glob\n",
    "\n",
    "# Path to the directory containing the folders\n",
    "directory_path = '/home/tuhin/Desktop/image_processing/images'\n",
    "\n",
    "# Function to rename images in a folder\n",
    "def rename_images(folder_path, folder_name):\n",
    "    # List all image files in the folder\n",
    "    image_files = glob.glob(os.path.join(folder_path, '*.png')) + glob.glob(os.path.join(folder_path, '*.jpg')) + glob.glob(os.path.join(folder_path, '*.jpeg'))\n",
    "\n",
    "    # Iterate over each image file and rename\n",
    "    for i, old_name in enumerate(image_files):\n",
    "        # Get the file extension\n",
    "        ext = os.path.splitext(old_name)[1]\n",
    "        # Construct the new file name\n",
    "        new_name = os.path.join(folder_path, f'{folder_name}_{i+1}{ext}')\n",
    "        # Rename the file\n",
    "        os.rename(old_name, new_name)\n",
    "        print(f'Renamed: {old_name} -> {new_name}')\n",
    "\n",
    "# Iterate over each folder\n",
    "for folder_name in os.listdir(directory_path):\n",
    "    folder_path = os.path.join(directory_path, folder_name)\n",
    "    # Check if the path is a directory\n",
    "    if os.path.isdir(folder_path):\n",
    "        rename_images(folder_path, folder_name)"
   ]
  },
  {
   "cell_type": "markdown",
   "id": "cbaccbd6-aa69-4b9d-9e2f-4fe49d420bae",
   "metadata": {},
   "source": [
    "## Create Directory\n",
    "#### /home/tuhin/Desktop/image_processing\n",
    "Inside image_processing there are 5 folders images and labels.</br>\n",
    "images => Here put all the images folders.</br>\n",
    "labels => Here put all the labels folders.</br>\n",
    "test => test images and labels (inside create two folders images and labels)</br>\n",
    "train => train images and labels (inside create two folders images and labels)</br>\n",
    "valid => valid images and labels (inside create two folders images and labels)</br>\n",
    "<span style=\"color:red\">Note:</span> before run the below codes place all the image and label folders inside images and labels and make sure test, train and valid are empty."
   ]
  },
  {
   "cell_type": "markdown",
   "id": "2d3a0d0e-9557-473b-b8e3-e8fde95849ed",
   "metadata": {},
   "source": [
    "## Keep only 100 images from each directory <span style=\"color:red\">Optional</span>"
   ]
  },
  {
   "cell_type": "code",
   "execution_count": 4,
   "id": "8c20ce5c-49e3-4c94-a990-8b7f1196ce4f",
   "metadata": {},
   "outputs": [],
   "source": [
    "import os\n",
    "\n",
    "# Path to the directory containing the folders\n",
    "directory_path = '/home/tuhin/Desktop/image_processing/images'\n",
    "image_limit = 100\n",
    "\n",
    "# Get all directory names within the specified directory\n",
    "folder_names = [folder for folder in os.listdir(directory_path) if os.path.isdir(os.path.join(directory_path, folder))]\n",
    "\n",
    "# Iterate over each folder\n",
    "for folder_name in folder_names:\n",
    "    folder_path = os.path.join(directory_path, folder_name)\n",
    "    \n",
    "    # Get a list of all files in the folder\n",
    "    files = os.listdir(folder_path)\n",
    "    \n",
    "    # Filter only image files (assuming image extensions like jpg, png, etc.)\n",
    "    image_files = [f for f in files if f.endswith(('.jpg', '.png', '.jpeg'))]\n",
    "    \n",
    "    # Sort the image files\n",
    "    image_files.sort()\n",
    "    \n",
    "    # Keep only the first n images, delete the rest\n",
    "    for image_file in image_files[image_limit:]:\n",
    "        os.remove(os.path.join(folder_path, image_file))\n"
   ]
  },
  {
   "cell_type": "code",
   "execution_count": null,
   "id": "ce666e23-51eb-4403-b1c0-5300836ca1b8",
   "metadata": {},
   "outputs": [],
   "source": []
  },
  {
   "cell_type": "markdown",
   "id": "4e6194a0-911d-41b9-8a44-5f32c5b1f159",
   "metadata": {},
   "source": [
    "## Update Label Indexing"
   ]
  },
  {
   "cell_type": "code",
   "execution_count": 14,
   "id": "c0282063-6ffc-4f7f-ac75-c79c7b01d971",
   "metadata": {},
   "outputs": [
    {
     "name": "stdout",
     "output_type": "stream",
     "text": [
      "Processing folder 'pest_snail', replace_value: 0\n",
      "Processing folder 'pest_weevil', replace_value: 1\n",
      "List of folder names: ['pest_snail', 'pest_weevil']\n"
     ]
    }
   ],
   "source": [
    "import os\n",
    "\n",
    "# Define the directory path\n",
    "directory = '/home/tuhin/Desktop/image_processing/labels'\n",
    "\n",
    "# List to store folder names\n",
    "folder_names_list = []\n",
    "\n",
    "# Variable to store the total number of labels\n",
    "total_labels = 0\n",
    "\n",
    "# Function to replace the first value in each line of a text file\n",
    "def replace_first_value(file_path, replace_value):\n",
    "    with open(file_path, 'r') as file:\n",
    "        lines = file.readlines()\n",
    "    \n",
    "    with open(file_path, 'w') as file:\n",
    "        for line in lines:\n",
    "            values = line.strip().split()\n",
    "            if values:\n",
    "                values[0] = replace_value\n",
    "                new_line = ' '.join(values) + '\\n'\n",
    "                file.write(new_line)\n",
    "\n",
    "# Iterate over each folder in the directory\n",
    "for idx, foldername in enumerate(os.listdir(directory)):\n",
    "    folder_path = os.path.join(directory, foldername)\n",
    "    if os.path.isdir(folder_path):\n",
    "        replace_value = str(idx)\n",
    "        folder_names_list.append(foldername)\n",
    "        print(f\"Processing folder '{foldername}', replace_value: {replace_value}\")\n",
    "        total_labels += 1\n",
    "        # Iterate over each file in the folder\n",
    "        for filename in os.listdir(folder_path):\n",
    "            if filename.endswith('.txt'):\n",
    "                file_path = os.path.join(folder_path, filename)\n",
    "                replace_first_value(file_path, replace_value)\n",
    "\n",
    "# Print the list of folder names and the total number of labels\n",
    "print()\n",
    "print(\"List of folder names:\", folder_names_list)\n",
    "print(\"Total number of labels:\", total_labels)"
   ]
  },
  {
   "cell_type": "markdown",
   "id": "2516dd94-ba68-4724-baa1-118490ab9ea1",
   "metadata": {},
   "source": [
    "## Spliting Dataset in 70%, 20% and 10%"
   ]
  },
  {
   "cell_type": "code",
   "execution_count": 13,
   "id": "3f1d987b-05e5-4456-94e9-1e53e81deed5",
   "metadata": {},
   "outputs": [
    {
     "name": "stdout",
     "output_type": "stream",
     "text": [
      "Dataset split successfully into train, validation, and test sets.\n"
     ]
    }
   ],
   "source": [
    "import os\n",
    "import random\n",
    "import shutil\n",
    "\n",
    "# Define directory paths\n",
    "image_source_dir = '/home/tuhin/Desktop/image_processing/images'\n",
    "label_source_dir = '/home/tuhin/Desktop/image_processing/labels'\n",
    "train_dir = '/home/tuhin/Desktop/image_processing/train'\n",
    "valid_dir = '/home/tuhin/Desktop/image_processing/valid'\n",
    "test_dir = '/home/tuhin/Desktop/image_processing/test'\n",
    "\n",
    "# Create train, validation, and test directories if they don't exist\n",
    "for directory in [train_dir, valid_dir, test_dir]:\n",
    "    os.makedirs(os.path.join(directory, 'images'), exist_ok=True)\n",
    "    os.makedirs(os.path.join(directory, 'labels'), exist_ok=True)\n",
    "\n",
    "# Get a list of all subdirectories in the image source directory\n",
    "subdirectories = next(os.walk(image_source_dir))[1]\n",
    "\n",
    "# Iterate over each subdirectory\n",
    "for subdirectory in subdirectories:\n",
    "    # Get list of image files in the current subdirectory\n",
    "    image_files = os.listdir(os.path.join(image_source_dir, subdirectory))\n",
    "    \n",
    "    # Shuffle the list of image files\n",
    "    random.seed(42)  # For reproducibility\n",
    "    random.shuffle(image_files)\n",
    "    \n",
    "    # Calculate the number of files for train, validation, and test\n",
    "    total_files = len(image_files)\n",
    "    train_count = int(total_files * 0.7)\n",
    "    valid_count = int(total_files * 0.2)\n",
    "    test_count = total_files - train_count - valid_count\n",
    "    \n",
    "    # Split the list of image files into train, validation, and test sets\n",
    "    train_files = image_files[:train_count]\n",
    "    valid_files = image_files[train_count:train_count + valid_count]\n",
    "    test_files = image_files[train_count + valid_count:]\n",
    "    \n",
    "    # Function to move files\n",
    "    def move_files(files, source_dir, dest_dir):\n",
    "        for file_name in files:\n",
    "            # Move images\n",
    "            source_image_path = os.path.join(source_dir, file_name)\n",
    "            dest_image_path = os.path.join(dest_dir, 'images', file_name)\n",
    "            shutil.move(source_image_path, dest_image_path)\n",
    "            \n",
    "            # Move corresponding labels\n",
    "            label_file_name = os.path.splitext(file_name)[0] + '.txt'\n",
    "            source_label_path = os.path.join(label_source_dir, subdirectory, label_file_name)\n",
    "            dest_label_path = os.path.join(dest_dir, 'labels', label_file_name)\n",
    "            shutil.move(source_label_path, dest_label_path)\n",
    "    \n",
    "    # Move files to train directory\n",
    "    move_files(train_files, os.path.join(image_source_dir, subdirectory), train_dir)\n",
    "    \n",
    "    # Move files to validation directory\n",
    "    move_files(valid_files, os.path.join(image_source_dir, subdirectory), valid_dir)\n",
    "    \n",
    "    # Move files to test directory\n",
    "    move_files(test_files, os.path.join(image_source_dir, subdirectory), test_dir)\n",
    "\n",
    "print(\"Dataset split successfully into train, validation, and test sets.\")"
   ]
  },
  {
   "cell_type": "code",
   "execution_count": null,
   "id": "216da9a2-dff0-4146-be31-53e48d77d061",
   "metadata": {},
   "outputs": [],
   "source": []
  },
  {
   "cell_type": "code",
   "execution_count": null,
   "id": "a967ac74-4936-4027-b294-3cac7072098c",
   "metadata": {},
   "outputs": [],
   "source": []
  },
  {
   "cell_type": "code",
   "execution_count": null,
   "id": "8236aecf-e707-4a9d-894b-d834803a606a",
   "metadata": {},
   "outputs": [],
   "source": []
  },
  {
   "cell_type": "code",
   "execution_count": null,
   "id": "782938c9-b73b-4916-861c-d7e73a2ab119",
   "metadata": {},
   "outputs": [],
   "source": []
  }
 ],
 "metadata": {
  "kernelspec": {
   "display_name": "Python 3 (ipykernel)",
   "language": "python",
   "name": "python3"
  },
  "language_info": {
   "codemirror_mode": {
    "name": "ipython",
    "version": 3
   },
   "file_extension": ".py",
   "mimetype": "text/x-python",
   "name": "python",
   "nbconvert_exporter": "python",
   "pygments_lexer": "ipython3",
   "version": "3.11.5"
  }
 },
 "nbformat": 4,
 "nbformat_minor": 5
}
